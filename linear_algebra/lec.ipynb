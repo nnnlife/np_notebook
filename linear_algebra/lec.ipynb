{
 "cells": [
  {
   "cell_type": "markdown",
   "metadata": {},
   "source": [
    "$$\n",
    "2x - y = 0 \\\\\n",
    "-x + 2y - z = -1 \\\\\n",
    "-3y + 4z = 4\n",
    "$$ "
   ]
  },
  {
   "cell_type": "markdown",
   "metadata": {},
   "source": [
    "Row picture, 3 different planes\n",
    "$$\n",
    "A=\\begin{bmatrix*}[r]\n",
    "2&-1&0\\\\\n",
    "-1&2&-1\\\\\n",
    "0&-3&4\n",
    "\\end{bmatrix*}\n",
    "\\,,\n",
    "b = \n",
    "\\begin{bmatrix*}[r]\n",
    "0\\\\-1\\\\4\n",
    "\\end{bmatrix*}\n",
    "$$"
   ]
  },
  {
   "cell_type": "markdown",
   "metadata": {},
   "source": [
    "Column picture (Linear Combination of columns)\n",
    "$$\n",
    "x\n",
    "\\begin{bmatrix*}[r]\n",
    "2\\\\-1\\\\0\n",
    "\\end{bmatrix*} +\n",
    "y\n",
    "\\begin{bmatrix*}[r]\n",
    "-1\\\\2\\\\-3\n",
    "\\end{bmatrix*} +\n",
    "z\n",
    "\\begin{bmatrix*}[r]\n",
    "0\\\\-1\\\\4\n",
    "\\end{bmatrix*}\n",
    "=\n",
    "\\begin{bmatrix*}[r]\n",
    "0\\\\-1\\\\4\n",
    "\\end{bmatrix*}\n",
    "$$"
   ]
  },
  {
   "cell_type": "markdown",
   "metadata": {},
   "source": [
    "- Can I solve Ax=b for every b?\n",
    "- Do the linear combs of the columns fill 3-D space?"
   ]
  },
  {
   "cell_type": "markdown",
   "metadata": {},
   "source": [
    "### Elinimation\n",
    "$$\n",
    "\\begin{cases}\n",
    "Success \\\\\n",
    "Fail\n",
    "\\end{cases}\n",
    "$$"
   ]
  },
  {
   "cell_type": "markdown",
   "metadata": {},
   "source": [
    "$$\n",
    "x+2y+z=2 \\\\\n",
    "3x+8y+z=12 \\\\\n",
    "4y+z=2\n",
    "$$"
   ]
  },
  {
   "cell_type": "markdown",
   "metadata": {},
   "source": [
    "$$\n",
    "A=\\begin{bmatrix*}[r]\n",
    "1(first pivot)&2&1\\\\\n",
    "3&8&1\\\\\n",
    "0&4&1\n",
    "\\end{bmatrix*}\n",
    "\\;\n",
    "\\rightarrow \\begin{bmatrix*}[r]\n",
    "1&2&1\\\\\n",
    "0&2(second pivot)&-2\\\\\n",
    "0&4&1\n",
    "\\end{bmatrix*}\n",
    "\\;\n",
    "\\rightarrow \\begin{bmatrix*}[r]\n",
    "1&2&1\\\\\n",
    "0&2&-2\\\\\n",
    "0&0&5\n",
    "\\end{bmatrix*}\n",
    "$$\n",
    "- U = Upper Triangle\n",
    "- How could be failed? - if get 0 pivot -> row exchange\n",
    "- when second pivot is zero -> also can switch with another row which second pivot is not zero"
   ]
  },
  {
   "cell_type": "code",
   "execution_count": null,
   "metadata": {},
   "outputs": [
    {
     "name": "stdout",
     "output_type": "stream",
     "text": [
      "[[ 1  2  1  2]\n",
      " [ 0  2 -2  6]\n",
      " [ 0  4  1  2]]\n",
      "[[  1   2   1   2]\n",
      " [  0   2  -2   6]\n",
      " [  0   0   5 -10]]\n"
     ]
    }
   ],
   "source": [
    "import numpy as np\n",
    "A = np.array([[1, 2, 1, 2], [3, 8, 1, 12], [0, 4, 1, 2]])\n",
    "A[1, :] = A[1, :] - 3 * A[0, :]\n",
    "print(A)\n",
    "A[2, :] -= 2 * A[1, :]\n",
    "print(A)\n",
    "# 5z = -10 -> z = -2 and go reverse steps to find x, y"
   ]
  },
  {
   "cell_type": "code",
   "execution_count": null,
   "metadata": {},
   "outputs": [
    {
     "name": "stdout",
     "output_type": "stream",
     "text": [
      "[[ 1  2  1]\n",
      " [ 0  2 -2]\n",
      " [ 0  0  0]]\n"
     ]
    }
   ],
   "source": [
    "# fail case, third row become all zeros\n",
    "A = np.array([[1, 2, 1], [3, 8, 1], [0, 4, -4]])\n",
    "A[1, :] = A[1, :] - 3 * A[0, :]\n",
    "A[2, :] -= 2 * A[1, :]\n",
    "print(A)"
   ]
  },
  {
   "cell_type": "code",
   "execution_count": null,
   "metadata": {},
   "outputs": [],
   "source": []
  }
 ],
 "metadata": {
  "kernelspec": {
   "display_name": "Python 3",
   "language": "python",
   "name": "python3"
  },
  "language_info": {
   "codemirror_mode": {
    "name": "ipython",
    "version": 3
   },
   "file_extension": ".py",
   "mimetype": "text/x-python",
   "name": "python",
   "nbconvert_exporter": "python",
   "pygments_lexer": "ipython3",
   "version": "3.12.4"
  }
 },
 "nbformat": 4,
 "nbformat_minor": 2
}
