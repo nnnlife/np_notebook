{
 "cells": [
  {
   "cell_type": "markdown",
   "metadata": {},
   "source": [
    "$$\n",
    "2x - y = 0 \\\\\n",
    "-x + 2y - z = -1 \\\\\n",
    "-3y + 4z = 4\n",
    "$$ "
   ]
  },
  {
   "cell_type": "markdown",
   "metadata": {},
   "source": [
    "Row picture, 3 different planes\n",
    "$$\n",
    "A=\\begin{bmatrix*}[r]\n",
    "2&-1&0\\\\\n",
    "-1&2&-1\\\\\n",
    "0&-3&4\n",
    "\\end{bmatrix*}\n",
    "\\,,\n",
    "b = \n",
    "\\begin{bmatrix*}[r]\n",
    "0\\\\-1\\\\4\n",
    "\\end{bmatrix*}\n",
    "$$"
   ]
  },
  {
   "cell_type": "markdown",
   "metadata": {},
   "source": [
    "Column picture (Linear Combination of columns)\n",
    "$$\n",
    "x\n",
    "\\begin{bmatrix*}[r]\n",
    "2\\\\-1\\\\0\n",
    "\\end{bmatrix*} +\n",
    "y\n",
    "\\begin{bmatrix*}[r]\n",
    "-1\\\\2\\\\-3\n",
    "\\end{bmatrix*} +\n",
    "z\n",
    "\\begin{bmatrix*}[r]\n",
    "0\\\\-1\\\\4\n",
    "\\end{bmatrix*}\n",
    "=\n",
    "\\begin{bmatrix*}[r]\n",
    "0\\\\-1\\\\4\n",
    "\\end{bmatrix*}\n",
    "$$"
   ]
  },
  {
   "cell_type": "markdown",
   "metadata": {},
   "source": [
    "- Can I solve Ax=b for every b?\n",
    "- Do the linear combs of the columns fill 3-D space?\n",
    "- "
   ]
  },
  {
   "cell_type": "markdown",
   "metadata": {},
   "source": []
  }
 ],
 "metadata": {
  "language_info": {
   "name": "python"
  }
 },
 "nbformat": 4,
 "nbformat_minor": 2
}
